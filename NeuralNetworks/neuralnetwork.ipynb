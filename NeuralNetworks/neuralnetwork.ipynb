{
 "cells": [
  {
   "cell_type": "code",
   "execution_count": null,
   "metadata": {},
   "outputs": [],
   "source": [
    "from keras.models import Sequential\n",
    "from keras.layers import Dense\n",
    "from keras.optimizers import Adam\n",
    "import keras\n",
    "import tensorflow as tf\n",
    "import numpy as np"
   ]
  },
  {
   "cell_type": "code",
   "execution_count": null,
   "metadata": {},
   "outputs": [],
   "source": [
    "train_dat = np.genfromtxt(\"bank-note/train.csv\", delimiter=\",\")\n",
    "test_dat = np.genfromtxt(\"bank-note/test.csv\", delimiter=',')\n",
    "\n",
    "x_train = train_dat[:, :-1]\n",
    "y_train = train_dat[:, -1]\n",
    "#y_train[ y_train == 0 ] = -1\n",
    "\n",
    "x_test = test_dat[:, :-1]\n",
    "y_test = test_dat[:, -1]\n",
    "#y_test[ y_test == 0] = -1"
   ]
  },
  {
   "cell_type": "code",
   "execution_count": null,
   "metadata": {},
   "outputs": [],
   "source": [
    "# attribute normalization\n",
    "mean_train = np.average( x_train, axis=0)\n",
    "var_train = np.var( x_train, axis = 0)\n",
    "\n",
    "x_train -= mean_train\n",
    "x_train /= np.sqrt( var_train )\n",
    "\n",
    "x_test -= mean_train\n",
    "x_test /= np.sqrt( var_train)"
   ]
  },
  {
   "cell_type": "code",
   "execution_count": null,
   "metadata": {},
   "outputs": [],
   "source": [
    "width = [5,10,25,50,100]\n",
    "depth = [3,5,9]\n",
    "print(\"Relu Activation\")\n",
    "for w in width:\n",
    "    for d in depth:\n",
    "        appender = \"w = \" + str(w) + \"\\t d = \" + str(d) + \" & \"\n",
    "        keras.initializers.glorot_normal(seed=None)\n",
    "        model = Sequential()\n",
    "        model.add(Dense(w, input_dim=4, activation='relu'))\n",
    "        for _ in range(d):\n",
    "            model.add(Dense(w, activation='relu'))\n",
    "        model.add(Dense(1, activation='sigmoid'))\n",
    "        model.compile(loss='binary_crossentropy', optimizer='adam', metrics=['accuracy'])\n",
    "        model.fit(x_train, y_train, epochs=5, batch_size=16,verbose = False)\n",
    "        scores = model.evaluate(x_train, y_train,verbose=False)\n",
    "        appender += str(round(scores[1]*100,2)) + \" & \"\n",
    "        scores = model.evaluate(x_test, y_test,verbose=False)\n",
    "        appender += str(round(scores[1]*100,2)) + \"\\\\\\\\ \\\\hline\"\n",
    "        print(appender)\n",
    "\n",
    "print(\"Tanh Activation\")\n",
    "for w in width:\n",
    "    for d in depth:\n",
    "        appender = \"w = \" + str(w) + \"\\t d = \" + str(d) + \" & \"\n",
    "        keras.initializers.he_normal(seed=None)\n",
    "        model = Sequential()\n",
    "        model.add(Dense(w, input_dim=4, activation='tanh'))\n",
    "        for _ in range(d):\n",
    "            model.add(Dense(w, activation='tanh'))\n",
    "        model.add(Dense(1, activation='sigmoid'))\n",
    "        model.compile(loss='binary_crossentropy', optimizer='adam', metrics=['accuracy'])\n",
    "        model.fit(x_train, y_train, epochs=5, batch_size=16,verbose = False)\n",
    "        scores = model.evaluate(x_train, y_train,verbose=False)\n",
    "        appender += str(round(scores[1]*100,2)) + \" & \"\n",
    "        scores = model.evaluate(x_test, y_test,verbose=False)\n",
    "        appender += str(round(scores[1]*100,2)) + \"\\\\\\\\ \\\\hline\"\n",
    "        print(appender)\n",
    "\n"
   ]
  },
  {
   "cell_type": "code",
   "execution_count": null,
   "metadata": {},
   "outputs": [],
   "source": []
  },
  {
   "cell_type": "code",
   "execution_count": null,
   "metadata": {},
   "outputs": [],
   "source": []
  },
  {
   "cell_type": "code",
   "execution_count": null,
   "metadata": {},
   "outputs": [],
   "source": []
  },
  {
   "cell_type": "code",
   "execution_count": null,
   "metadata": {},
   "outputs": [],
   "source": []
  },
  {
   "cell_type": "code",
   "execution_count": null,
   "metadata": {},
   "outputs": [],
   "source": []
  }
 ],
 "metadata": {
  "kernelspec": {
   "display_name": "Python 3",
   "language": "python",
   "name": "python3"
  },
  "language_info": {
   "codemirror_mode": {
    "name": "ipython",
    "version": 3
   },
   "file_extension": ".py",
   "mimetype": "text/x-python",
   "name": "python",
   "nbconvert_exporter": "python",
   "pygments_lexer": "ipython3",
   "version": "3.7.2"
  }
 },
 "nbformat": 4,
 "nbformat_minor": 2
}
